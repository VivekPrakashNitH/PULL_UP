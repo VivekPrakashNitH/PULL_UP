{
 "cells": [
  {
   "cell_type": "code",
   "execution_count": 1,
   "metadata": {},
   "outputs": [
    {
     "name": "stderr",
     "output_type": "stream",
     "text": [
      "INFO: Created TensorFlow Lite XNNPACK delegate for CPU.\n",
      "Warning: Ignoring XDG_SESSION_TYPE=wayland on Gnome. Use QT_QPA_PLATFORM=wayland to run on Wayland anyway.\n"
     ]
    }
   ],
   "source": [
    "import cv2\n",
    "import mediapipe as mp\n",
    "\n",
    "# Initialize mediapipe\n",
    "mp_drawing = mp.solutions.drawing_utils\n",
    "mp_pose = mp.solutions.pose\n",
    "\n",
    "# Initialize video capture device\n",
    "cap = cv2.VideoCapture(0)\n",
    "\n",
    "with mp_pose.Pose(min_detection_confidence=0.5, min_tracking_confidence=0.5) as pose:\n",
    "    pull_no = 0\n",
    "    count = 3\n",
    "    while True:\n",
    "        # Capture frame-by-frame\n",
    "        ret, frame = cap.read()\n",
    "\n",
    "        # Convert to RGB\n",
    "        image = cv2.cvtColor(frame, cv2.COLOR_BGR2RGB)\n",
    "        start_point0 = (0, 100)\n",
    "        start_point1 = (0, 400)\n",
    "\n",
    "    \n",
    "        # End coordinate, here (250, 250)\n",
    "        # represents the bottom right corner of image\n",
    "        end_point0 = (900, 100)\n",
    "        end_point1 = (900, 400)\n",
    "    \n",
    "        # Green color in BGR\n",
    "        color = (0, 255, 0)\n",
    "    \n",
    "        # Line thickness of 9 px\n",
    "        thickness = 5\n",
    "        # image = cv2.line(image, start_point, end_point, color, thickness)\n",
    "        frame = cv2.line(frame, start_point0, end_point0, color, thickness)\n",
    "        # frame = cv2.line(frame, start_point1, end_point1, color, thickness)\n",
    "\n",
    "        # Flip the image horizontally for a mirror effect\n",
    "        # image = cv2.flip(image, 1)\n",
    "\n",
    "        # Set the image as input to the pose model\n",
    "        results = pose.process(image)\n",
    "\n",
    "        # Extract the nose landmark\n",
    "        if results.pose_landmarks:\n",
    "            nose_landmark = results.pose_landmarks.landmark[mp_pose.PoseLandmark.NOSE]\n",
    "\n",
    "            # Get the x and y coordinates of the nose landmark\n",
    "            x = int(nose_landmark.x * frame.shape[1])\n",
    "            y = int(nose_landmark.y * frame.shape[0])\n",
    "\n",
    "            # Draw a red circle around the nose landmark\n",
    "            cv2.circle(frame, (x, y), 5, (0, 0, 255), -1)\n",
    "\n",
    "            # Display the y coordinate of the nose position at the top right corner\n",
    "            cv2.putText(frame, f\"y: {y}\", (frame.shape[1] - 100, 50),\n",
    "                        cv2.FONT_HERSHEY_SIMPLEX, 1, (0, 0, 255), 2)\n",
    "            \n",
    "            up = 0\n",
    "            down = 0\n",
    "                \n",
    "            if(y==end_point0[1]):\n",
    "                up+=1\n",
    "            # if(y==end_point1[1]):\n",
    "            #     down+=1\n",
    "            if(up==2 ):\n",
    "                pull_no += 1    \n",
    "        \n",
    "        # Display the resulting frame\n",
    "        cv2.putText(frame, f\"Pull No: {pull_no}\", (10, 50),\n",
    "                    cv2.FONT_HERSHEY_SIMPLEX, 1, (0, 0, 255), 2)\n",
    "        cv2.imshow('Nose detection', frame)\n",
    "\n",
    "        # Exit loop on \"q\" key press\n",
    "        if cv2.waitKey(1) & 0xFF == ord('q'):\n",
    "            break\n",
    "\n",
    "# Release the capture\n",
    "cap.release()\n",
    "cv2.destroyAllWindows()\n"
   ]
  },
  {
   "cell_type": "code",
   "execution_count": null,
   "metadata": {},
   "outputs": [],
   "source": []
  }
 ],
 "metadata": {
  "kernelspec": {
   "display_name": "Python 3",
   "language": "python",
   "name": "python3"
  },
  "language_info": {
   "codemirror_mode": {
    "name": "ipython",
    "version": 3
   },
   "file_extension": ".py",
   "mimetype": "text/x-python",
   "name": "python",
   "nbconvert_exporter": "python",
   "pygments_lexer": "ipython3",
   "version": "3.11.2"
  },
  "orig_nbformat": 4,
  "vscode": {
   "interpreter": {
    "hash": "e7370f93d1d0cde622a1f8e1c04877d8463912d04d973331ad4851f04de6915a"
   }
  }
 },
 "nbformat": 4,
 "nbformat_minor": 2
}
